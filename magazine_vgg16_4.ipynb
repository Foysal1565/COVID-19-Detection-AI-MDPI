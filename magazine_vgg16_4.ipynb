{
  "nbformat": 4,
  "nbformat_minor": 0,
  "metadata": {
    "colab": {
      "name": "magazine vgg16-4.ipynb",
      "provenance": [],
      "collapsed_sections": []
    },
    "kernelspec": {
      "name": "python3",
      "display_name": "Python 3"
    },
    "accelerator": "GPU"
  },
  "cells": [
    {
      "cell_type": "code",
      "metadata": {
        "id": "bUIC-eTWyFh3",
        "colab": {
          "base_uri": "https://localhost:8080/",
          "height": 1000
        },
        "outputId": "c24e2d70-a949-4ac1-ef4b-f4a859991656"
      },
      "source": [
        "!unzip covid_1999"
      ],
      "execution_count": null,
      "outputs": [
        {
          "output_type": "stream",
          "text": [
            "Archive:  covid_1999.zip\n",
            "   creating: Dataset4/\n",
            "   creating: Dataset4/Test/\n",
            "   creating: Dataset4/Test/Covid/\n",
            "  inflating: Dataset4/Test/Covid/01E392EE-69F9-4E33-BFCE-E5C968654078.jpeg  \n",
            "  inflating: Dataset4/Test/Covid/0a7faa2a.jpg  \n",
            "  inflating: Dataset4/Test/Covid/1-s2.0-S0140673620303706-fx1_lrg.jpg  \n",
            "  inflating: Dataset4/Test/Covid/1-s2.0-S1684118220300608-main.pdf-001.jpg  \n",
            "  inflating: Dataset4/Test/Covid/1-s2.0-S1684118220300608-main.pdf-002.jpg  \n",
            "  inflating: Dataset4/Test/Covid/1-s2.0-S1684118220300682-main.pdf-002-a1.png  \n",
            "  inflating: Dataset4/Test/Covid/1-s2.0-S1684118220300682-main.pdf-002-a2.png  \n",
            "  inflating: Dataset4/Test/Covid/1-s2.0-S1684118220300682-main.pdf-003-b1.png  \n",
            "  inflating: Dataset4/Test/Covid/1-s2.0-S1684118220300682-main.pdf-003-b2.png  \n",
            "  inflating: Dataset4/Test/Covid/1-s2.0-S2214250920300834-gr1_lrg-b.png  \n",
            "  inflating: Dataset4/Test/Covid/1-s2.0-S2214250920300834-gr1_lrg-c.png  \n",
            "  inflating: Dataset4/Test/Covid/1-s2.0-S2387020620301959-gr4_lrg-b.png  \n",
            "  inflating: Dataset4/Test/Covid/1-s2.0-S2387020620301959-gr4_lrg-c.png  \n",
            "  inflating: Dataset4/Test/Covid/1.CXRCTThoraximagesofCOVID-19fromSingapore.pdf-000-fig1a.png  \n",
            "  inflating: Dataset4/Test/Covid/1.CXRCTThoraximagesofCOVID-19fromSingapore.pdf-000-fig1b.png  \n",
            "  inflating: Dataset4/Test/Covid/1.CXRCTThoraximagesofCOVID-19fromSingapore.pdf-001-fig2a.png  \n",
            "  inflating: Dataset4/Test/Covid/1.CXRCTThoraximagesofCOVID-19fromSingapore.pdf-001-fig2b.png  \n",
            "  inflating: Dataset4/Test/Covid/1.CXRCTThoraximagesofCOVID-19fromSingapore.pdf-002-fig3a.png  \n",
            "  inflating: Dataset4/Test/Covid/1.CXRCTThoraximagesofCOVID-19fromSingapore.pdf-002-fig3b.png  \n",
            "  inflating: Dataset4/Test/Covid/1.CXRCTThoraximagesofCOVID-19fromSingapore.pdf-003-fig4a.png  \n",
            "  inflating: Dataset4/Test/Covid/1.CXRCTThoraximagesofCOVID-19fromSingapore.pdf-003-fig4b.png  \n",
            "  inflating: Dataset4/Test/Covid/16669_3_1.jpeg  \n",
            "  inflating: Dataset4/Test/Covid/16708_5_1.jpg  \n",
            "  inflating: Dataset4/Test/Covid/16745_5_1.png  \n",
            "  inflating: Dataset4/Test/Covid/1B734A89-A1BF-49A8-A1D3-66FAFA4FAC5D.jpeg  \n",
            "  inflating: Dataset4/Test/Covid/2168a917.jpg  \n",
            "  inflating: Dataset4/Test/Covid/2966893D-5DDF-4B68-9E2B-4979D5956C8E.jpeg  \n",
            "  inflating: Dataset4/Test/Covid/353889E0-A1E8-4F9E-A0B8-F24F36BCFBFB.jpeg  \n",
            "  inflating: Dataset4/Test/Covid/41182_2020_203_Fig3_HTML.jpg  \n",
            "  inflating: Dataset4/Test/Covid/41182_2020_203_Fig4_HTML.jpg  \n",
            "  inflating: Dataset4/Test/Covid/80446565-E090-4187-A031-9D3CEAA586C8.jpeg  \n",
            "  inflating: Dataset4/Test/Covid/auntminnie-c-2020_01_28_23_51_6665_2020_01_28_Vietnam_coronavirus.jpeg  \n",
            "  inflating: Dataset4/Test/Covid/ciaa199.pdf-001-a.png  \n",
            "  inflating: Dataset4/Test/Covid/covid-19-caso-70-1-PA.jpg  \n",
            "  inflating: Dataset4/Test/Covid/covid-19-infection-exclusive-gastrointestinal-symptoms-pa.png  \n",
            "  inflating: Dataset4/Test/Covid/covid-19-pneumonia-2.jpg  \n",
            "  inflating: Dataset4/Test/Covid/covid-19-pneumonia-30-PA.jpg  \n",
            "  inflating: Dataset4/Test/Covid/covid-19-pneumonia-34.png  \n",
            "  inflating: Dataset4/Test/Covid/covid-19-pneumonia-35-1.jpg  \n",
            "  inflating: Dataset4/Test/Covid/covid-19-pneumonia-35-2.jpg  \n",
            "   creating: Dataset4/Test/Normal/\n",
            "  inflating: Dataset4/Test/Normal/IM-0141-0001.jpeg  \n",
            "  inflating: Dataset4/Test/Normal/IM-0147-0001.jpeg  \n",
            "  inflating: Dataset4/Test/Normal/IM-0176-0001.jpeg  \n",
            "  inflating: Dataset4/Test/Normal/IM-0183-0001.jpeg  \n",
            "  inflating: Dataset4/Test/Normal/IM-0193-0001.jpeg  \n",
            "  inflating: Dataset4/Test/Normal/IM-0199-0001.jpeg  \n",
            "  inflating: Dataset4/Test/Normal/IM-0218-0001.jpeg  \n",
            "  inflating: Dataset4/Test/Normal/IM-0245-0001.jpeg  \n",
            "  inflating: Dataset4/Test/Normal/IM-0251-0001.jpeg  \n",
            "  inflating: Dataset4/Test/Normal/IM-0262-0001.jpeg  \n",
            "  inflating: Dataset4/Test/Normal/IM-0270-0001.jpeg  \n",
            "  inflating: Dataset4/Test/Normal/IM-0278-0001.jpeg  \n",
            "  inflating: Dataset4/Test/Normal/IM-0293-0001.jpeg  \n",
            "  inflating: Dataset4/Test/Normal/IM-0302-0001.jpeg  \n",
            "  inflating: Dataset4/Test/Normal/IM-0303-0001.jpeg  \n",
            "  inflating: Dataset4/Test/Normal/IM-0305-0001.jpeg  \n",
            "  inflating: Dataset4/Test/Normal/IM-0324-0001.jpeg  \n",
            "  inflating: Dataset4/Test/Normal/IM-0331-0001.jpeg  \n",
            "  inflating: Dataset4/Test/Normal/IM-0341-0001.jpeg  \n",
            "  inflating: Dataset4/Test/Normal/IM-0351-0001.jpeg  \n",
            "  inflating: Dataset4/Test/Normal/IM-0353-0001.jpeg  \n",
            "  inflating: Dataset4/Test/Normal/IM-0358-0001.jpeg  \n",
            "  inflating: Dataset4/Test/Normal/IM-0383-0001.jpeg  \n",
            "  inflating: Dataset4/Test/Normal/IM-0475-0001.jpeg  \n",
            "  inflating: Dataset4/Test/Normal/IM-0478-0001.jpeg  \n",
            "  inflating: Dataset4/Test/Normal/IM-0487-0001.jpeg  \n",
            "  inflating: Dataset4/Test/Normal/IM-0499-0001.jpeg  \n",
            "  inflating: Dataset4/Test/Normal/IM-0526-0001.jpeg  \n",
            "  inflating: Dataset4/Test/Normal/IM-0535-0001.jpeg  \n",
            "  inflating: Dataset4/Test/Normal/IM-0541-0001.jpeg  \n",
            "  inflating: Dataset4/Test/Normal/IM-0563-0001.jpeg  \n",
            "  inflating: Dataset4/Test/Normal/IM-0568-0001.jpeg  \n",
            "  inflating: Dataset4/Test/Normal/IM-0596-0001.jpeg  \n",
            "  inflating: Dataset4/Test/Normal/IM-0604-0001.jpeg  \n",
            "  inflating: Dataset4/Test/Normal/IM-0672-0001.jpeg  \n",
            "  inflating: Dataset4/Test/Normal/IM-0736-0001.jpeg  \n",
            "  inflating: Dataset4/Test/Normal/NORMAL2-IM-0416-0001-0001.jpeg  \n",
            "  inflating: Dataset4/Test/Normal/NORMAL2-IM-0418-0001.jpeg  \n",
            "  inflating: Dataset4/Test/Normal/NORMAL2-IM-0616-0001.jpeg  \n",
            "  inflating: Dataset4/Test/Normal/NORMAL2-IM-0622-0001.jpeg  \n",
            "   creating: Dataset4/Train/\n",
            "   creating: Dataset4/Train/Covid/\n",
            "  inflating: Dataset4/Train/Covid/03BF7561-A9BA-4C3C-B8A0-D3E585F73F3C.jpeg  \n",
            "  inflating: Dataset4/Train/Covid/10.1016-slash-j.anl.2020.04.002-a.png  \n",
            "  inflating: Dataset4/Train/Covid/10.1016-slash-j.crad.2020.04.002-a.png  \n",
            "  inflating: Dataset4/Train/Covid/10.1016-slash-j.crad.2020.04.002-b.png  \n",
            "  inflating: Dataset4/Train/Covid/1052b0fe.jpg  \n",
            "  inflating: Dataset4/Train/Covid/12941_2020_358_Fig1_HTML.jpg  \n",
            "  inflating: Dataset4/Train/Covid/1312A392-67A3-4EBF-9319-810CF6DA5EF6.jpeg  \n",
            "  inflating: Dataset4/Train/Covid/16654_1_1.png  \n",
            "  inflating: Dataset4/Train/Covid/16654_2_1.jpg  \n",
            "  inflating: Dataset4/Train/Covid/16654_4_1.jpg  \n",
            "  inflating: Dataset4/Train/Covid/16660_1_1.jpg  \n",
            "  inflating: Dataset4/Train/Covid/16660_2_1.jpg  \n",
            "  inflating: Dataset4/Train/Covid/16660_3_1.jpg  \n",
            "  inflating: Dataset4/Train/Covid/16660_4_1.jpg  \n",
            "  inflating: Dataset4/Train/Covid/16663_1_1.jpg  \n",
            "  inflating: Dataset4/Train/Covid/16664_1_1.jpg  \n",
            "  inflating: Dataset4/Train/Covid/16669_1_1.jpeg  \n",
            "  inflating: Dataset4/Train/Covid/16672_1_1.jpg  \n",
            "  inflating: Dataset4/Train/Covid/16708_1_1.jpg  \n",
            "  inflating: Dataset4/Train/Covid/16708_4_1.jpg  \n",
            "  inflating: Dataset4/Train/Covid/16747_1_1.jpg  \n",
            "  inflating: Dataset4/Train/Covid/19abe1f3.jpg  \n",
            "  inflating: Dataset4/Train/Covid/2-chest-filmc.jpg  \n",
            "  inflating: Dataset4/Train/Covid/23E99E2E-447C-46E5-8EB2-D35D12473C39.png  \n",
            "  inflating: Dataset4/Train/Covid/2C26F453-AF3B-4517-BB9E-802CF2179543.jpeg  \n",
            "  inflating: Dataset4/Train/Covid/2cd63b76.jpg  \n",
            "  inflating: Dataset4/Train/Covid/31BA3780-2323-493F-8AED-62081B9C383B.jpeg  \n",
            "  inflating: Dataset4/Train/Covid/3b46de94.jpg  \n",
            "  inflating: Dataset4/Train/Covid/40779_2020_233_Fig2_HTML-a.png  \n",
            "  inflating: Dataset4/Train/Covid/41182_2020_203_Fig5_HTML.jpg  \n",
            "  inflating: Dataset4/Train/Covid/41379_2020_536_Fig2_HTML-c1.png  \n",
            "  inflating: Dataset4/Train/Covid/41591_2020_819_Fig1_HTML.webp-day10.png  \n",
            "  inflating: Dataset4/Train/Covid/41591_2020_819_Fig1_HTML.webp-day5.png  \n",
            "  inflating: Dataset4/Train/Covid/441c9cdd.jpg  \n",
            "  inflating: Dataset4/Train/Covid/48c4542c.jpg  \n",
            "  inflating: Dataset4/Train/Covid/4d98e1de.jpg  \n",
            "  inflating: Dataset4/Train/Covid/4e43e48d52c9e2d4c6c1fb9bc1544f_jumbo.jpeg  \n",
            "  inflating: Dataset4/Train/Covid/53EC07C9-5CC6-4BE4-9B6F-D7B0D72AAA7E.jpeg  \n",
            "  inflating: Dataset4/Train/Covid/5782ae15.jpg  \n",
            "  inflating: Dataset4/Train/Covid/58cb9263f16e94305c730685358e4e_jumbo.jpeg  \n",
            "  inflating: Dataset4/Train/Covid/5f619d7e.jpg  \n",
            "  inflating: Dataset4/Train/Covid/6b3bdbc31f65230b8cdcc3cef5f8ba8a-40ac-0.jpg  \n",
            "  inflating: Dataset4/Train/Covid/6b44464d-73a7-4cf3-bbb6-ffe7168300e3.annot.original.jpeg  \n",
            "  inflating: Dataset4/Train/Covid/6C94A287-C059-46A0-8600-AFB95F4727B7.jpeg  \n",
            "  inflating: Dataset4/Train/Covid/6CB4EFC6-68FA-4CD5-940C-BEFA8DAFE9A7.jpeg  \n",
            "  inflating: Dataset4/Train/Covid/7-fatal-covid19.jpg  \n",
            "  inflating: Dataset4/Train/Covid/7AF6C1AF-D249-4BD2-8C26-449304105D03.jpeg  \n",
            "  inflating: Dataset4/Train/Covid/7afaaccc.jpg  \n",
            "  inflating: Dataset4/Train/Covid/7C69C012-7479-493F-8722-ABC29C60A2DD.jpeg  \n",
            "  inflating: Dataset4/Train/Covid/80b5f00f.jpg  \n",
            "  inflating: Dataset4/Train/Covid/82a78c13.jpg  \n",
            "  inflating: Dataset4/Train/Covid/85E52EB3-56E9-4D67-82DA-DEA247C82886.jpeg  \n",
            "  inflating: Dataset4/Train/Covid/88de9d8c39e946abd495b37cd07d89e5-2ee6-0.jpg  \n",
            "  inflating: Dataset4/Train/Covid/88de9d8c39e946abd495b37cd07d89e5-6531-0.jpg  \n",
            "  inflating: Dataset4/Train/Covid/8da14fff.jpg  \n",
            "  inflating: Dataset4/Train/Covid/8fc103ca.jpg  \n",
            "  inflating: Dataset4/Train/Covid/8FDE8DBA-CFBD-4B4C-B1A4-6F36A93B7E87.jpeg  \n",
            "  inflating: Dataset4/Train/Covid/90986ce4.jpg  \n",
            "  inflating: Dataset4/Train/Covid/93FE0BB1-022D-4F24-9727-987A07975FFB.jpeg  \n",
            "  inflating: Dataset4/Train/Covid/9C34AF49-E589-44D5-92D3-168B3B04E4A6.jpeg  \n",
            "  inflating: Dataset4/Train/Covid/9fdd3c3032296fd04d2cad5d9070d4_jumbo.jpeg  \n",
            "  inflating: Dataset4/Train/Covid/a2eba651.jpg  \n",
            "  inflating: Dataset4/Train/Covid/a361d7b7.jpg  \n",
            "  inflating: Dataset4/Train/Covid/a8ac1969.jpg  \n",
            "  inflating: Dataset4/Train/Covid/ac4f6e4e.jpg  \n",
            "  inflating: Dataset4/Train/Covid/ae6c954c0039de4b5edee53865ffee43-e6c8-0.jpg  \n",
            "  inflating: Dataset4/Train/Covid/all14238-fig-0001-m-b.jpg  \n",
            "  inflating: Dataset4/Train/Covid/all14238-fig-0001-m-c.jpg  \n",
            "  inflating: Dataset4/Train/Covid/AR-1.jpg  \n",
            "  inflating: Dataset4/Train/Covid/AR-2.jpg  \n",
            "  inflating: Dataset4/Train/Covid/article_river_e4d185c06e3511eaa2321d8ab357a1de-c1mn.png  \n",
            "  inflating: Dataset4/Train/Covid/auntminnie-a-2020_01_28_23_51_6665_2020_01_28_Vietnam_coronavirus.jpeg  \n",
            "  inflating: Dataset4/Train/Covid/auntminnie-b-2020_01_28_23_51_6665_2020_01_28_Vietnam_coronavirus.jpeg  \n",
            "  inflating: Dataset4/Train/Covid/auntminnie-d-2020_01_28_23_51_6665_2020_01_28_Vietnam_coronavirus.jpeg  \n",
            "  inflating: Dataset4/Train/Covid/B2D20576-00B7-4519-A415-72DE29C90C34.jpeg  \n",
            "  inflating: Dataset4/Train/Covid/b9673e89.jpg  \n",
            "  inflating: Dataset4/Train/Covid/bb0e626a.jpg  \n",
            "  inflating: Dataset4/Train/Covid/bd10d5e2.jpg  \n",
            "  inflating: Dataset4/Train/Covid/BMJ-37-163-g1.jpg  \n",
            "  inflating: Dataset4/Train/Covid/c0f74558.jpg  \n",
            "  inflating: Dataset4/Train/Covid/c3829ecb.jpg  \n",
            "  inflating: Dataset4/Train/Covid/c601f50d.jpg  \n",
            "  inflating: Dataset4/Train/Covid/CD50BA96-6982-4C80-AE7B-5F67ACDBFA56.jpeg  \n",
            "  inflating: Dataset4/Train/Covid/ciaa199.pdf-001-b.png  \n",
            "  inflating: Dataset4/Train/Covid/ciaa199.pdf-001-c.png  \n",
            "  inflating: Dataset4/Train/Covid/covid-19-caso-82-1-8.png  \n",
            "  inflating: Dataset4/Train/Covid/covid-19-caso-91-1-12.png  \n",
            "  inflating: Dataset4/Train/Covid/covid-19-caso-94-1-14.png  \n",
            "  inflating: Dataset4/Train/Covid/covid-19-caso-95-1-15.png  \n",
            "  inflating: Dataset4/Train/Covid/covid-19-caso-95-3-14.png  \n",
            "  inflating: Dataset4/Train/Covid/covid-19-pneumonia-12.jpg  \n",
            "  inflating: Dataset4/Train/Covid/covid-19-pneumonia-14-PA.png  \n",
            "  inflating: Dataset4/Train/Covid/covid-19-pneumonia-15-PA.jpg  \n",
            "  inflating: Dataset4/Train/Covid/covid-19-pneumonia-19.jpg  \n",
            "  inflating: Dataset4/Train/Covid/covid-19-pneumonia-20-pa-on-admission.jpg  \n",
            "  inflating: Dataset4/Train/Covid/covid-19-pneumonia-20.jpg  \n",
            "  inflating: Dataset4/Train/Covid/covid-19-pneumonia-22-day1-pa.png  \n",
            "  inflating: Dataset4/Train/Covid/covid-19-pneumonia-22-day2-pa.png  \n",
            "  inflating: Dataset4/Train/Covid/covid-19-pneumonia-28.png  \n",
            "  inflating: Dataset4/Train/Covid/covid-19-pneumonia-38-pa.jpg  \n",
            "  inflating: Dataset4/Train/Covid/covid-19-pneumonia-44-day-0.jpeg  \n",
            "  inflating: Dataset4/Train/Covid/covid-19-pneumonia-53.jpg  \n",
            "  inflating: Dataset4/Train/Covid/covid-19-pneumonia-58-day-10.jpg  \n",
            "  inflating: Dataset4/Train/Covid/covid-19-pneumonia-58-day-3.jpg  \n",
            "  inflating: Dataset4/Train/Covid/covid-19-pneumonia-58-day-7.jpg  \n",
            "  inflating: Dataset4/Train/Covid/covid-19-pneumonia-58-day-9.jpg  \n",
            "  inflating: Dataset4/Train/Covid/covid-19-pneumonia-67.jpeg  \n",
            "  inflating: Dataset4/Train/Covid/covid-19-pneumonia-7-PA.jpg  \n",
            "  inflating: Dataset4/Train/Covid/covid-19-pneumonia-8.jpg  \n",
            "  inflating: Dataset4/Train/Covid/covid-19-pneumonia-93.png  \n",
            "  inflating: Dataset4/Train/Covid/covid-19-pneumonia-bilateral.jpg  \n",
            "  inflating: Dataset4/Train/Covid/covid-19-pneumonia-evolution-over-a-week-1-day0-PA.jpg  \n",
            "  inflating: Dataset4/Train/Covid/covid-19-pneumonia-mild.JPG  \n",
            "  inflating: Dataset4/Train/Covid/d009d61f.jpg  \n",
            "  inflating: Dataset4/Train/Covid/d9d6ca9a.jpg  \n",
            "  inflating: Dataset4/Train/Covid/e1446fe8.jpg  \n",
            "  inflating: Dataset4/Train/Covid/E63574A7-4188-4C8D-8D17-9D67A18A1AFA.jpeg  \n",
            "  inflating: Dataset4/Train/Covid/ec083e35.jpg  \n",
            "  inflating: Dataset4/Train/Covid/extubation-1.jpg  \n",
            "  inflating: Dataset4/Train/Covid/extubation-13.jpg  \n",
            "  inflating: Dataset4/Train/Covid/extubation-4.jpg  \n",
            "  inflating: Dataset4/Train/Covid/extubation-8.jpg  \n",
            "  inflating: Dataset4/Train/Covid/F2DE909F-E19C-4900-92F5-8F435B031AC6.jpeg  \n",
            "  inflating: Dataset4/Train/Covid/F4341CE7-73C9-45C6-99C8-8567A5484B63.jpeg  \n",
            "  inflating: Dataset4/Train/Covid/F63AB6CE-1968-4154-A70F-913AF154F53D.jpeg  \n",
            "  inflating: Dataset4/Train/Covid/f64132c8.jpg  \n",
            "  inflating: Dataset4/Train/Covid/f6575117.jpg  \n",
            "  inflating: Dataset4/Train/Covid/f6d980a0.jpg  \n",
            "  inflating: Dataset4/Train/Covid/f8335316.jpg  \n",
            "  inflating: Dataset4/Train/Covid/FE9F9A5D-2830-46F9-851B-1FF4534959BE.jpeg  \n",
            "  inflating: Dataset4/Train/Covid/fff49165-b22d-4bb4-b9d1-d5d62c52436c.annot.original.png  \n",
            "  inflating: Dataset4/Train/Covid/figure1-5e71be566aa8714a04de3386-98-left.jpeg  \n",
            "  inflating: Dataset4/Train/Covid/figure1-5e75d0940b71e1b702629659-98-right.jpeg  \n",
            "  inflating: Dataset4/Train/Covid/gr1_lrg-a.jpg  \n",
            "  inflating: Dataset4/Train/Covid/gr1_lrg-b.jpg  \n",
            "  inflating: Dataset4/Train/Covid/kjr-21-e24-g001-l-a.jpg  \n",
            "  inflating: Dataset4/Train/Covid/kjr-21-e24-g002-l-a.jpg  \n",
            "  inflating: Dataset4/Train/Covid/kjr-21-e24-g003-l-a.jpg  \n",
            "  inflating: Dataset4/Train/Covid/kjr-21-e25-g001-l-a.jpg  \n",
            "  inflating: Dataset4/Train/Covid/lancet-case2a.jpg  \n",
            "  inflating: Dataset4/Train/Covid/lancet-case2b.jpg  \n",
            "  inflating: Dataset4/Train/Covid/nCoV-radiol.2020200269.fig1-day7.jpeg  \n",
            "  inflating: Dataset4/Train/Covid/nejmc2001573_f1a.jpeg  \n",
            "  inflating: Dataset4/Train/Covid/nejmc2001573_f1b.jpeg  \n",
            "  inflating: Dataset4/Train/Covid/nejmoa2001191_f1-PA.jpeg  \n",
            "  inflating: Dataset4/Train/Covid/nejmoa2001191_f3-PA.jpeg  \n",
            "  inflating: Dataset4/Train/Covid/nejmoa2001191_f4.jpeg  \n",
            "  inflating: Dataset4/Train/Covid/nejmoa2001191_f5-PA.jpeg  \n",
            "  inflating: Dataset4/Train/Covid/paving.jpg  \n",
            "  inflating: Dataset4/Train/Covid/radiol.2020200274.fig3d.png  \n",
            "  inflating: Dataset4/Train/Covid/radiol.2020200490.fig3.jpeg  \n",
            "  inflating: Dataset4/Train/Covid/ryct.2020200028.fig1a.jpeg  \n",
            "  inflating: Dataset4/Train/Covid/ryct.2020200034.fig2.jpeg  \n",
            "  inflating: Dataset4/Train/Covid/ryct.2020200034.fig5-day0.jpeg  \n",
            "  inflating: Dataset4/Train/Covid/ryct.2020200034.fig5-day4.jpeg  \n",
            "  inflating: Dataset4/Train/Covid/ryct.2020200034.fig5-day7.jpeg  \n",
            "  inflating: Dataset4/Train/Covid/thnov10p5641g006-c.png  \n",
            "  inflating: Dataset4/Train/Covid/tpmd200203f2-a.png  \n",
            "  inflating: Dataset4/Train/Covid/tpmd200203f2-b.png  \n",
            "  inflating: Dataset4/Train/Covid/tpmd200203f2-c.png  \n",
            "  inflating: Dataset4/Train/Covid/yxppt-2020-02-19_00-51-27_287214-day8.jpg  \n",
            "   creating: Dataset4/Train/Normal/\n",
            "  inflating: Dataset4/Train/Normal/IM-0359-0001.jpeg  \n",
            "  inflating: Dataset4/Train/Normal/IM-0377-0001.jpeg  \n",
            "  inflating: Dataset4/Train/Normal/IM-0393-0001.jpeg  \n",
            "  inflating: Dataset4/Train/Normal/IM-0394-0001.jpeg  \n",
            "  inflating: Dataset4/Train/Normal/IM-0399-0001.jpeg  \n",
            "  inflating: Dataset4/Train/Normal/IM-0405-0001.jpeg  \n",
            "  inflating: Dataset4/Train/Normal/IM-0413-0001.jpeg  \n",
            "  inflating: Dataset4/Train/Normal/IM-0416-0001.jpeg  \n",
            "  inflating: Dataset4/Train/Normal/IM-0435-0001-0001.jpeg  \n",
            "  inflating: Dataset4/Train/Normal/IM-0457-0001.jpeg  \n",
            "  inflating: Dataset4/Train/Normal/IM-0460-0001.jpeg  \n",
            "  inflating: Dataset4/Train/Normal/IM-0467-0001-0001.jpeg  \n",
            "  inflating: Dataset4/Train/Normal/IM-0469-0001.jpeg  \n",
            "  inflating: Dataset4/Train/Normal/IM-0477-0001.jpeg  \n",
            "  inflating: Dataset4/Train/Normal/IM-0496-0001.jpeg  \n",
            "  inflating: Dataset4/Train/Normal/IM-0497-0001-0001.jpeg  \n",
            "  inflating: Dataset4/Train/Normal/IM-0508-0001.jpeg  \n",
            "  inflating: Dataset4/Train/Normal/IM-0517-0001.jpeg  \n",
            "  inflating: Dataset4/Train/Normal/IM-0523-0001-0002.jpeg  \n",
            "  inflating: Dataset4/Train/Normal/IM-0523-0001.jpeg  \n",
            "  inflating: Dataset4/Train/Normal/IM-0543-0001-0002.jpeg  \n",
            "  inflating: Dataset4/Train/Normal/IM-0548-0001.jpeg  \n",
            "  inflating: Dataset4/Train/Normal/IM-0549-0001-0002.jpeg  \n",
            "  inflating: Dataset4/Train/Normal/IM-0553-0001-0002.jpeg  \n",
            "  inflating: Dataset4/Train/Normal/IM-0555-0001-0001.jpeg  \n",
            "  inflating: Dataset4/Train/Normal/IM-0556-0001.jpeg  \n",
            "  inflating: Dataset4/Train/Normal/IM-0557-0001.jpeg  \n",
            "  inflating: Dataset4/Train/Normal/IM-0559-0001.jpeg  \n",
            "  inflating: Dataset4/Train/Normal/IM-0560-0001.jpeg  \n",
            "  inflating: Dataset4/Train/Normal/IM-0579-0001.jpeg  \n",
            "  inflating: Dataset4/Train/Normal/IM-0605-0001.jpeg  \n",
            "  inflating: Dataset4/Train/Normal/IM-0606-0001.jpeg  \n",
            "  inflating: Dataset4/Train/Normal/IM-0618-0001-0001.jpeg  \n",
            "  inflating: Dataset4/Train/Normal/IM-0618-0001.jpeg  \n",
            "  inflating: Dataset4/Train/Normal/IM-0623-0001.jpeg  \n",
            "  inflating: Dataset4/Train/Normal/IM-0631-0001-0002.jpeg  \n",
            "  inflating: Dataset4/Train/Normal/IM-0631-0001.jpeg  \n",
            "  inflating: Dataset4/Train/Normal/IM-0633-0001.jpeg  \n",
            "  inflating: Dataset4/Train/Normal/IM-0640-0001-0001.jpeg  \n",
            "  inflating: Dataset4/Train/Normal/IM-0640-0001-0002.jpeg  \n",
            "  inflating: Dataset4/Train/Normal/IM-0640-0001.jpeg  \n",
            "  inflating: Dataset4/Train/Normal/IM-0641-0001.jpeg  \n",
            "  inflating: Dataset4/Train/Normal/IM-0650-0001.jpeg  \n",
            "  inflating: Dataset4/Train/Normal/IM-0656-0001-0001.jpeg  \n",
            "  inflating: Dataset4/Train/Normal/IM-0674-0001.jpeg  \n",
            "  inflating: Dataset4/Train/Normal/IM-0683-0001.jpeg  \n",
            "  inflating: Dataset4/Train/Normal/IM-0691-0001.jpeg  \n",
            "  inflating: Dataset4/Train/Normal/IM-0694-0001.jpeg  \n",
            "  inflating: Dataset4/Train/Normal/IM-0717-0001.jpeg  \n",
            "  inflating: Dataset4/Train/Normal/IM-0735-0001.jpeg  \n",
            "  inflating: Dataset4/Train/Normal/IM-0739-0001.jpeg  \n",
            "  inflating: Dataset4/Train/Normal/IM-0752-0001.jpeg  \n",
            "  inflating: Dataset4/Train/Normal/NORMAL2-IM-0384-0001.jpeg  \n",
            "  inflating: Dataset4/Train/Normal/NORMAL2-IM-0391-0001.jpeg  \n",
            "  inflating: Dataset4/Train/Normal/NORMAL2-IM-0395-0001-0002.jpeg  \n",
            "  inflating: Dataset4/Train/Normal/NORMAL2-IM-0414-0001.jpeg  \n",
            "  inflating: Dataset4/Train/Normal/NORMAL2-IM-0416-0001-0002.jpeg  \n",
            "  inflating: Dataset4/Train/Normal/NORMAL2-IM-0440-0001.jpeg  \n",
            "  inflating: Dataset4/Train/Normal/NORMAL2-IM-0447-0001.jpeg  \n",
            "  inflating: Dataset4/Train/Normal/NORMAL2-IM-0453-0001.jpeg  \n",
            "  inflating: Dataset4/Train/Normal/NORMAL2-IM-0472-0001.jpeg  \n",
            "  inflating: Dataset4/Train/Normal/NORMAL2-IM-0473-0001.jpeg  \n",
            "  inflating: Dataset4/Train/Normal/NORMAL2-IM-0503-0001.jpeg  \n",
            "  inflating: Dataset4/Train/Normal/NORMAL2-IM-0522-0001.jpeg  \n",
            "  inflating: Dataset4/Train/Normal/NORMAL2-IM-0523-0001.jpeg  \n",
            "  inflating: Dataset4/Train/Normal/NORMAL2-IM-0531-0001.jpeg  \n",
            "  inflating: Dataset4/Train/Normal/NORMAL2-IM-0536-0001.jpeg  \n",
            "  inflating: Dataset4/Train/Normal/NORMAL2-IM-0539-0001.jpeg  \n",
            "  inflating: Dataset4/Train/Normal/NORMAL2-IM-0545-0001.jpeg  \n",
            "  inflating: Dataset4/Train/Normal/NORMAL2-IM-0552-0001.jpeg  \n",
            "  inflating: Dataset4/Train/Normal/NORMAL2-IM-0557-0001.jpeg  \n",
            "  inflating: Dataset4/Train/Normal/NORMAL2-IM-0563-0001.jpeg  \n",
            "  inflating: Dataset4/Train/Normal/NORMAL2-IM-0571-0001.jpeg  \n",
            "  inflating: Dataset4/Train/Normal/NORMAL2-IM-0601-0001.jpeg  \n",
            "  inflating: Dataset4/Train/Normal/NORMAL2-IM-0603-0001.jpeg  \n",
            "  inflating: Dataset4/Train/Normal/NORMAL2-IM-0609-0001.jpeg  \n",
            "  inflating: Dataset4/Train/Normal/NORMAL2-IM-0621-0001.jpeg  \n",
            "  inflating: Dataset4/Train/Normal/NORMAL2-IM-0643-0001.jpeg  \n",
            "  inflating: Dataset4/Train/Normal/NORMAL2-IM-0653-0001.jpeg  \n",
            "  inflating: Dataset4/Train/Normal/NORMAL2-IM-0654-0001.jpeg  \n",
            "  inflating: Dataset4/Train/Normal/NORMAL2-IM-0668-0001.jpeg  \n",
            "  inflating: Dataset4/Train/Normal/NORMAL2-IM-0682-0001.jpeg  \n",
            "  inflating: Dataset4/Train/Normal/NORMAL2-IM-0692-0001.jpeg  \n",
            "  inflating: Dataset4/Train/Normal/NORMAL2-IM-0702-0001.jpeg  \n",
            "  inflating: Dataset4/Train/Normal/NORMAL2-IM-0723-0001.jpeg  \n",
            "  inflating: Dataset4/Train/Normal/NORMAL2-IM-0749-0001.jpeg  \n",
            "  inflating: Dataset4/Train/Normal/NORMAL2-IM-0790-0001.jpeg  \n",
            "  inflating: Dataset4/Train/Normal/NORMAL2-IM-0793-0001.jpeg  \n",
            "  inflating: Dataset4/Train/Normal/NORMAL2-IM-0798-0001.jpeg  \n",
            "  inflating: Dataset4/Train/Normal/NORMAL2-IM-0799-0001.jpeg  \n",
            "  inflating: Dataset4/Train/Normal/NORMAL2-IM-0808-0001.jpeg  \n",
            "  inflating: Dataset4/Train/Normal/NORMAL2-IM-0815-0001.jpeg  \n",
            "  inflating: Dataset4/Train/Normal/NORMAL2-IM-0827-0001.jpeg  \n",
            "  inflating: Dataset4/Train/Normal/NORMAL2-IM-0832-0001-0001.jpeg  \n",
            "  inflating: Dataset4/Train/Normal/NORMAL2-IM-0832-0001-0002.jpeg  \n",
            "  inflating: Dataset4/Train/Normal/NORMAL2-IM-0834-0001.jpeg  \n",
            "  inflating: Dataset4/Train/Normal/NORMAL2-IM-0843-0001.jpeg  \n",
            "  inflating: Dataset4/Train/Normal/NORMAL2-IM-0852-0001.jpeg  \n",
            "  inflating: Dataset4/Train/Normal/NORMAL2-IM-0854-0001.jpeg  \n",
            "  inflating: Dataset4/Train/Normal/NORMAL2-IM-0859-0001.jpeg  \n",
            "  inflating: Dataset4/Train/Normal/NORMAL2-IM-0897-0001.jpeg  \n",
            "  inflating: Dataset4/Train/Normal/NORMAL2-IM-0910-0001.jpeg  \n",
            "  inflating: Dataset4/Train/Normal/NORMAL2-IM-0914-0001.jpeg  \n",
            "  inflating: Dataset4/Train/Normal/NORMAL2-IM-0915-0001.jpeg  \n",
            "  inflating: Dataset4/Train/Normal/NORMAL2-IM-0926-0001.jpeg  \n",
            "  inflating: Dataset4/Train/Normal/NORMAL2-IM-0932-0001.jpeg  \n",
            "  inflating: Dataset4/Train/Normal/NORMAL2-IM-0949-0001.jpeg  \n",
            "  inflating: Dataset4/Train/Normal/NORMAL2-IM-0962-0001.jpeg  \n",
            "  inflating: Dataset4/Train/Normal/NORMAL2-IM-0971-0001-0002.jpeg  \n",
            "  inflating: Dataset4/Train/Normal/NORMAL2-IM-0976-0001.jpeg  \n",
            "  inflating: Dataset4/Train/Normal/NORMAL2-IM-0977-0001.jpeg  \n",
            "  inflating: Dataset4/Train/Normal/NORMAL2-IM-0979-0001.jpeg  \n",
            "  inflating: Dataset4/Train/Normal/NORMAL2-IM-0981-0001.jpeg  \n",
            "  inflating: Dataset4/Train/Normal/NORMAL2-IM-0983-0001.jpeg  \n",
            "  inflating: Dataset4/Train/Normal/NORMAL2-IM-0986-0001.jpeg  \n",
            "  inflating: Dataset4/Train/Normal/NORMAL2-IM-0995-0001-0001.jpeg  \n",
            "  inflating: Dataset4/Train/Normal/NORMAL2-IM-0999-0001.jpeg  \n",
            "  inflating: Dataset4/Train/Normal/NORMAL2-IM-1006-0001.jpeg  \n",
            "  inflating: Dataset4/Train/Normal/NORMAL2-IM-1014-0001.jpeg  \n",
            "  inflating: Dataset4/Train/Normal/NORMAL2-IM-1019-0001.jpeg  \n",
            "  inflating: Dataset4/Train/Normal/NORMAL2-IM-1020-0001-0002.jpeg  \n",
            "  inflating: Dataset4/Train/Normal/NORMAL2-IM-1022-0001.jpeg  \n",
            "  inflating: Dataset4/Train/Normal/NORMAL2-IM-1023-0001.jpeg  \n",
            "  inflating: Dataset4/Train/Normal/NORMAL2-IM-1044-0001.jpeg  \n",
            "  inflating: Dataset4/Train/Normal/NORMAL2-IM-1046-0001.jpeg  \n",
            "  inflating: Dataset4/Train/Normal/NORMAL2-IM-1091-0001.jpeg  \n",
            "  inflating: Dataset4/Train/Normal/NORMAL2-IM-1093-0001.jpeg  \n",
            "  inflating: Dataset4/Train/Normal/NORMAL2-IM-1094-0001-0002.jpeg  \n",
            "  inflating: Dataset4/Train/Normal/NORMAL2-IM-1126-0001.jpeg  \n",
            "  inflating: Dataset4/Train/Normal/NORMAL2-IM-1127-0001.jpeg  \n",
            "  inflating: Dataset4/Train/Normal/NORMAL2-IM-1131-0001.jpeg  \n",
            "  inflating: Dataset4/Train/Normal/NORMAL2-IM-1134-0001.jpeg  \n",
            "  inflating: Dataset4/Train/Normal/NORMAL2-IM-1136-0001.jpeg  \n",
            "  inflating: Dataset4/Train/Normal/NORMAL2-IM-1151-0001.jpeg  \n",
            "  inflating: Dataset4/Train/Normal/NORMAL2-IM-1155-0001.jpeg  \n",
            "  inflating: Dataset4/Train/Normal/NORMAL2-IM-1158-0001.jpeg  \n",
            "  inflating: Dataset4/Train/Normal/NORMAL2-IM-1161-0001.jpeg  \n",
            "  inflating: Dataset4/Train/Normal/NORMAL2-IM-1170-0001.jpeg  \n",
            "  inflating: Dataset4/Train/Normal/NORMAL2-IM-1191-0001.jpeg  \n",
            "  inflating: Dataset4/Train/Normal/NORMAL2-IM-1192-0001.jpeg  \n",
            "  inflating: Dataset4/Train/Normal/NORMAL2-IM-1219-0001.jpeg  \n",
            "  inflating: Dataset4/Train/Normal/NORMAL2-IM-1223-0001.jpeg  \n",
            "  inflating: Dataset4/Train/Normal/NORMAL2-IM-1224-0001.jpeg  \n",
            "  inflating: Dataset4/Train/Normal/NORMAL2-IM-1232-0001.jpeg  \n",
            "  inflating: Dataset4/Train/Normal/NORMAL2-IM-1236-0001.jpeg  \n",
            "  inflating: Dataset4/Train/Normal/NORMAL2-IM-1247-0001.jpeg  \n",
            "  inflating: Dataset4/Train/Normal/NORMAL2-IM-1257-0001.jpeg  \n",
            "  inflating: Dataset4/Train/Normal/NORMAL2-IM-1261-0001.jpeg  \n",
            "  inflating: Dataset4/Train/Normal/NORMAL2-IM-1266-0001-0002.jpeg  \n",
            "  inflating: Dataset4/Train/Normal/NORMAL2-IM-1273-0001.jpeg  \n",
            "  inflating: Dataset4/Train/Normal/NORMAL2-IM-1275-0001.jpeg  \n",
            "  inflating: Dataset4/Train/Normal/NORMAL2-IM-1277-0001-0001.jpeg  \n",
            "  inflating: Dataset4/Train/Normal/NORMAL2-IM-1279-0001.jpeg  \n",
            "  inflating: Dataset4/Train/Normal/NORMAL2-IM-1289-0001.jpeg  \n",
            "  inflating: Dataset4/Train/Normal/NORMAL2-IM-1296-0001.jpeg  \n",
            "  inflating: Dataset4/Train/Normal/NORMAL2-IM-1326-0001.jpeg  \n",
            "  inflating: Dataset4/Train/Normal/NORMAL2-IM-1343-0001.jpeg  \n",
            "  inflating: Dataset4/Train/Normal/NORMAL2-IM-1406-0001.jpeg  \n",
            "  inflating: Dataset4/Train/Normal/NORMAL2-IM-1412-0001.jpeg  \n",
            "  inflating: Dataset4/Train/Normal/NORMAL2-IM-1422-0001.jpeg  \n",
            "  inflating: Dataset4/Train/Normal/NORMAL2-IM-1423-0001.jpeg  \n"
          ],
          "name": "stdout"
        }
      ]
    },
    {
      "cell_type": "code",
      "metadata": {
        "id": "fBzILRefyrnK",
        "colab": {
          "base_uri": "https://localhost:8080/",
          "height": 35
        },
        "outputId": "2ba5c979-42bc-4a49-a585-dad3650dd554"
      },
      "source": [
        "import keras\n",
        "from keras.layers import Input, Lambda, Dense, Flatten\n",
        "from keras.models import Model\n",
        "from keras.applications.vgg16 import VGG16\n",
        "from keras.applications.vgg16 import preprocess_input\n",
        "from keras.preprocessing import image\n",
        "from IPython.display import display\n",
        "from PIL import Image\n",
        "from keras.preprocessing.image import ImageDataGenerator\n",
        "from keras.models import Sequential\n",
        "import numpy as np\n",
        "from glob import glob\n",
        "import numpy as np\n",
        "from keras.layers import *\n",
        "from keras.models import *\n",
        "import matplotlib.pyplot as plt\n",
        "from sklearn.metrics import classification_report, confusion_matrix"
      ],
      "execution_count": null,
      "outputs": [
        {
          "output_type": "stream",
          "text": [
            "Using TensorFlow backend.\n"
          ],
          "name": "stderr"
        }
      ]
    },
    {
      "cell_type": "code",
      "metadata": {
        "id": "7LBokaWSys9G"
      },
      "source": [
        "train_path = \"CovidDataset/Train\"\n",
        "valid_path = \"CovidDataset/Test\""
      ],
      "execution_count": null,
      "outputs": []
    },
    {
      "cell_type": "code",
      "metadata": {
        "id": "ouSJTmEAyvW1",
        "colab": {
          "base_uri": "https://localhost:8080/",
          "height": 73
        },
        "outputId": "884fc8e2-3bbc-4950-c4c9-1b9166f6f372"
      },
      "source": [
        "# add preprocessing layer to the front of VGG\n",
        "#vgg16_model = keras.applications.vgg16.VGG16()\n",
        "vgg16_model = VGG16(input_shape=(224,224,3), weights='imagenet', include_top=False)"
      ],
      "execution_count": null,
      "outputs": [
        {
          "output_type": "stream",
          "text": [
            "Downloading data from https://github.com/fchollet/deep-learning-models/releases/download/v0.1/vgg16_weights_tf_dim_ordering_tf_kernels_notop.h5\n",
            "58892288/58889256 [==============================] - 2s 0us/step\n"
          ],
          "name": "stdout"
        }
      ]
    },
    {
      "cell_type": "code",
      "metadata": {
        "id": "Ozioq53jyw0D"
      },
      "source": [
        "# don't train existing weights\n",
        "for layer in vgg16_model.layers:\n",
        "  layer.trainable = False"
      ],
      "execution_count": null,
      "outputs": []
    },
    {
      "cell_type": "code",
      "metadata": {
        "id": "CC1Icl3Hy2hg"
      },
      "source": [
        "model = Sequential()\n",
        "for layer in vgg16_model.layers:\n",
        "    model.add(layer)"
      ],
      "execution_count": null,
      "outputs": []
    },
    {
      "cell_type": "code",
      "metadata": {
        "id": "gkeWlpYFy3qM"
      },
      "source": [
        "model.add(Flatten())\n",
        "\n",
        "model.add(Dense(64,activation='relu'))\n",
        "model.add(Dropout(0.5))\n",
        "model.add(Dense(1,activation='sigmoid'))\n",
        "\n",
        "model.compile(loss=keras.losses.binary_crossentropy,optimizer='adam',metrics=['accuracy'])"
      ],
      "execution_count": null,
      "outputs": []
    },
    {
      "cell_type": "code",
      "metadata": {
        "id": "hKw9u2cby4-i"
      },
      "source": [
        "from keras.preprocessing.image import ImageDataGenerator"
      ],
      "execution_count": null,
      "outputs": []
    },
    {
      "cell_type": "code",
      "metadata": {
        "id": "g-I4CeMVzCh5"
      },
      "source": [
        "train_datagen = ImageDataGenerator(rescale = 1./255,\n",
        "                                   shear_range = 0.2,\n",
        "                                   zoom_range = 0.2,\n",
        "                                   horizontal_flip = True)"
      ],
      "execution_count": null,
      "outputs": []
    },
    {
      "cell_type": "code",
      "metadata": {
        "id": "M7QC4SJuzEIm"
      },
      "source": [
        "test_datagen = ImageDataGenerator(rescale = 1./255)"
      ],
      "execution_count": null,
      "outputs": []
    },
    {
      "cell_type": "code",
      "metadata": {
        "id": "YlJgYmeOzFhU",
        "colab": {
          "base_uri": "https://localhost:8080/",
          "height": 35
        },
        "outputId": "7376d27a-9600-46b0-f5ec-ebcbff5bbdaa"
      },
      "source": [
        "training_set = train_datagen.flow_from_directory(\n",
        "    'CovidDataset/Train',\n",
        "    target_size = (224,224),\n",
        "    batch_size = 32,\n",
        "    class_mode = 'binary')"
      ],
      "execution_count": null,
      "outputs": [
        {
          "output_type": "stream",
          "text": [
            "Found 322 images belonging to 2 classes.\n"
          ],
          "name": "stdout"
        }
      ]
    },
    {
      "cell_type": "code",
      "metadata": {
        "id": "3DaIcM0ZzLU4",
        "colab": {
          "base_uri": "https://localhost:8080/",
          "height": 35
        },
        "outputId": "144f8b09-9c90-413c-d821-836508786695"
      },
      "source": [
        "training_set.class_indices"
      ],
      "execution_count": null,
      "outputs": [
        {
          "output_type": "execute_result",
          "data": {
            "text/plain": [
              "{'Covid': 0, 'Normal': 1}"
            ]
          },
          "metadata": {
            "tags": []
          },
          "execution_count": 12
        }
      ]
    },
    {
      "cell_type": "code",
      "metadata": {
        "id": "si1dkZ0AzNaX",
        "colab": {
          "base_uri": "https://localhost:8080/",
          "height": 35
        },
        "outputId": "063b9ee0-0665-4eb0-e649-29354a791571"
      },
      "source": [
        "test_set = test_datagen.flow_from_directory(\n",
        "    'CovidDataset/Test',\n",
        "    target_size = (224,224),\n",
        "    batch_size = 32,\n",
        "    class_mode = 'binary'\n",
        "    )"
      ],
      "execution_count": null,
      "outputs": [
        {
          "output_type": "stream",
          "text": [
            "Found 80 images belonging to 2 classes.\n"
          ],
          "name": "stdout"
        }
      ]
    },
    {
      "cell_type": "code",
      "metadata": {
        "id": "OVNNxxMnzO0S",
        "colab": {
          "base_uri": "https://localhost:8080/",
          "height": 945
        },
        "outputId": "98a49523-b76f-47fd-ec8a-c935266e9534"
      },
      "source": [
        "# fit the model\n",
        "r = model.fit_generator(\n",
        "  training_set,\n",
        "  validation_data=test_set,\n",
        "  epochs=25,\n",
        "  steps_per_epoch=len(training_set),\n",
        "  validation_steps=len(test_set)\n",
        ")"
      ],
      "execution_count": null,
      "outputs": [
        {
          "output_type": "stream",
          "text": [
            "Epoch 1/25\n",
            "11/11 [==============================] - 15s 1s/step - loss: 1.0498 - accuracy: 0.6957 - val_loss: 0.1530 - val_accuracy: 0.9750\n",
            "Epoch 2/25\n",
            "11/11 [==============================] - 12s 1s/step - loss: 0.2677 - accuracy: 0.8944 - val_loss: 0.0075 - val_accuracy: 0.9875\n",
            "Epoch 3/25\n",
            "11/11 [==============================] - 12s 1s/step - loss: 0.0758 - accuracy: 0.9814 - val_loss: 0.0044 - val_accuracy: 1.0000\n",
            "Epoch 4/25\n",
            "11/11 [==============================] - 13s 1s/step - loss: 0.0865 - accuracy: 0.9658 - val_loss: 0.0383 - val_accuracy: 0.9875\n",
            "Epoch 5/25\n",
            "11/11 [==============================] - 13s 1s/step - loss: 0.0455 - accuracy: 0.9876 - val_loss: 0.0096 - val_accuracy: 1.0000\n",
            "Epoch 6/25\n",
            "11/11 [==============================] - 13s 1s/step - loss: 0.0209 - accuracy: 1.0000 - val_loss: 0.0134 - val_accuracy: 1.0000\n",
            "Epoch 7/25\n",
            "11/11 [==============================] - 13s 1s/step - loss: 0.0413 - accuracy: 0.9969 - val_loss: 0.2082 - val_accuracy: 0.9500\n",
            "Epoch 8/25\n",
            "11/11 [==============================] - 13s 1s/step - loss: 0.0590 - accuracy: 0.9783 - val_loss: 0.0014 - val_accuracy: 1.0000\n",
            "Epoch 9/25\n",
            "11/11 [==============================] - 12s 1s/step - loss: 0.0639 - accuracy: 0.9752 - val_loss: 0.0531 - val_accuracy: 0.9875\n",
            "Epoch 10/25\n",
            "11/11 [==============================] - 12s 1s/step - loss: 0.0296 - accuracy: 0.9969 - val_loss: 0.0033 - val_accuracy: 1.0000\n",
            "Epoch 11/25\n",
            "11/11 [==============================] - 12s 1s/step - loss: 0.0357 - accuracy: 0.9938 - val_loss: 0.0050 - val_accuracy: 1.0000\n",
            "Epoch 12/25\n",
            "11/11 [==============================] - 12s 1s/step - loss: 0.0137 - accuracy: 1.0000 - val_loss: 0.0031 - val_accuracy: 1.0000\n",
            "Epoch 13/25\n",
            "11/11 [==============================] - 12s 1s/step - loss: 0.0220 - accuracy: 0.9969 - val_loss: 2.8504e-04 - val_accuracy: 1.0000\n",
            "Epoch 14/25\n",
            "11/11 [==============================] - 12s 1s/step - loss: 0.0183 - accuracy: 1.0000 - val_loss: 1.6770e-04 - val_accuracy: 1.0000\n",
            "Epoch 15/25\n",
            "11/11 [==============================] - 12s 1s/step - loss: 0.0105 - accuracy: 1.0000 - val_loss: 0.0021 - val_accuracy: 1.0000\n",
            "Epoch 16/25\n",
            "11/11 [==============================] - 12s 1s/step - loss: 0.0145 - accuracy: 1.0000 - val_loss: 0.0067 - val_accuracy: 1.0000\n",
            "Epoch 17/25\n",
            "11/11 [==============================] - 12s 1s/step - loss: 0.0162 - accuracy: 1.0000 - val_loss: 0.0055 - val_accuracy: 1.0000\n",
            "Epoch 18/25\n",
            "11/11 [==============================] - 12s 1s/step - loss: 0.0251 - accuracy: 0.9907 - val_loss: 6.7022e-04 - val_accuracy: 1.0000\n",
            "Epoch 19/25\n",
            "11/11 [==============================] - 12s 1s/step - loss: 0.0123 - accuracy: 1.0000 - val_loss: 1.7999e-04 - val_accuracy: 1.0000\n",
            "Epoch 20/25\n",
            "11/11 [==============================] - 12s 1s/step - loss: 0.0191 - accuracy: 0.9938 - val_loss: 0.0055 - val_accuracy: 1.0000\n",
            "Epoch 21/25\n",
            "11/11 [==============================] - 12s 1s/step - loss: 0.0159 - accuracy: 0.9938 - val_loss: 8.9814e-05 - val_accuracy: 1.0000\n",
            "Epoch 22/25\n",
            "11/11 [==============================] - 12s 1s/step - loss: 0.0181 - accuracy: 0.9938 - val_loss: 6.1595e-04 - val_accuracy: 1.0000\n",
            "Epoch 23/25\n",
            "11/11 [==============================] - 12s 1s/step - loss: 0.0097 - accuracy: 1.0000 - val_loss: 0.0020 - val_accuracy: 1.0000\n",
            "Epoch 24/25\n",
            "11/11 [==============================] - 12s 1s/step - loss: 0.0181 - accuracy: 0.9969 - val_loss: 0.0030 - val_accuracy: 1.0000\n",
            "Epoch 25/25\n",
            "11/11 [==============================] - 12s 1s/step - loss: 0.0130 - accuracy: 1.0000 - val_loss: 1.0606e-04 - val_accuracy: 1.0000\n"
          ],
          "name": "stdout"
        }
      ]
    },
    {
      "cell_type": "code",
      "metadata": {
        "id": "hy-7OExQzW31",
        "colab": {
          "base_uri": "https://localhost:8080/",
          "height": 35
        },
        "outputId": "e5ceee9e-ac1a-4bdc-9781-b69ef9ecd5c1"
      },
      "source": [
        "model.evaluate_generator(training_set)"
      ],
      "execution_count": null,
      "outputs": [
        {
          "output_type": "execute_result",
          "data": {
            "text/plain": [
              "[0.00028468333766795695, 1.0]"
            ]
          },
          "metadata": {
            "tags": []
          },
          "execution_count": 15
        }
      ]
    },
    {
      "cell_type": "code",
      "metadata": {
        "id": "xXxnaZVDzYQr",
        "colab": {
          "base_uri": "https://localhost:8080/",
          "height": 35
        },
        "outputId": "e2444beb-5711-4aec-e093-6429905de9d7"
      },
      "source": [
        "model.evaluate_generator(test_set)"
      ],
      "execution_count": null,
      "outputs": [
        {
          "output_type": "execute_result",
          "data": {
            "text/plain": [
              "[0.00015583894855808467, 1.0]"
            ]
          },
          "metadata": {
            "tags": []
          },
          "execution_count": 16
        }
      ]
    },
    {
      "cell_type": "code",
      "metadata": {
        "id": "0NW3xjKBzZic"
      },
      "source": [
        "y_actual = []\n",
        "y_test = []"
      ],
      "execution_count": null,
      "outputs": []
    },
    {
      "cell_type": "code",
      "metadata": {
        "id": "VbVtcR6nz1HU"
      },
      "source": [
        "import os\n",
        "for i in os.listdir(\"./CovidDataset/Test/Normal/\"):\n",
        "  img = image.load_img(\"./CovidDataset/Test/Normal/\"+i, target_size=(224,224))\n",
        "  img = image.img_to_array(img)\n",
        "  img = np.expand_dims(img, axis=0)\n",
        "  p = model.predict_classes(img)\n",
        "  y_test.append(p[0,0])\n",
        "  y_actual.append(1)"
      ],
      "execution_count": null,
      "outputs": []
    },
    {
      "cell_type": "code",
      "metadata": {
        "id": "5KuQ7Ti3z6qR"
      },
      "source": [
        "for i in os.listdir(\"./CovidDataset/Test/Covid/\"):\n",
        "  img = image.load_img(\"./CovidDataset/Test/Covid/\"+i, target_size=(224,224))\n",
        "  img = image.img_to_array(img)\n",
        "  img = np.expand_dims(img, axis=0)\n",
        "  p = model.predict_classes(img)\n",
        "  y_test.append(p[0,0])\n",
        "  y_actual.append(0)"
      ],
      "execution_count": null,
      "outputs": []
    },
    {
      "cell_type": "code",
      "metadata": {
        "id": "DfyY_ReD0D2E"
      },
      "source": [
        "y_actual = np.array(y_actual)\n",
        "y_test = np.array(y_test)"
      ],
      "execution_count": null,
      "outputs": []
    },
    {
      "cell_type": "code",
      "metadata": {
        "id": "rAnPaj-40Gh6"
      },
      "source": [
        "from sklearn.metrics import confusion_matrix"
      ],
      "execution_count": null,
      "outputs": []
    },
    {
      "cell_type": "code",
      "metadata": {
        "id": "50w7nbMI0IY9",
        "colab": {
          "base_uri": "https://localhost:8080/",
          "height": 73
        },
        "outputId": "e9cb3d6e-cf64-42ff-f06e-8a784745a140"
      },
      "source": [
        "import seaborn as sns\n",
        "cm = confusion_matrix(y_actual, y_test)"
      ],
      "execution_count": null,
      "outputs": [
        {
          "output_type": "stream",
          "text": [
            "/usr/local/lib/python3.6/dist-packages/statsmodels/tools/_testing.py:19: FutureWarning: pandas.util.testing is deprecated. Use the functions in the public API at pandas.testing instead.\n",
            "  import pandas.util.testing as tm\n"
          ],
          "name": "stderr"
        }
      ]
    },
    {
      "cell_type": "code",
      "metadata": {
        "id": "vJ4xLN700KEI",
        "colab": {
          "base_uri": "https://localhost:8080/",
          "height": 287
        },
        "outputId": "ea26febc-2675-41fb-f828-2706c8408a59"
      },
      "source": [
        "sns.heatmap(cm, cmap=\"magma\", annot= True)"
      ],
      "execution_count": null,
      "outputs": [
        {
          "output_type": "execute_result",
          "data": {
            "text/plain": [
              "<matplotlib.axes._subplots.AxesSubplot at 0x7f25ce2e6a20>"
            ]
          },
          "metadata": {
            "tags": []
          },
          "execution_count": 23
        },
        {
          "output_type": "display_data",
          "data": {
            "image/png": "[encoded data removed]",
            "text/plain": [
              "<Figure size 432x288 with 2 Axes>"
            ]
          },
          "metadata": {
            "tags": [],
            "needs_background": "light"
          }
        }
      ]
    },
    {
      "cell_type": "code",
      "metadata": {
        "id": "W5xsHLNB0_1Z"
      },
      "source": [
        "# calculate roc curve\n",
        "from sklearn.metrics import roc_curve\n",
        "fpr, tpr, thresholds = roc_curve(y_actual, y_test)"
      ],
      "execution_count": null,
      "outputs": []
    },
    {
      "cell_type": "code",
      "metadata": {
        "id": "y7cxind61Pr9"
      },
      "source": [
        "from sklearn.metrics import auc\n",
        "auc_keras = auc(fpr, tpr)"
      ],
      "execution_count": null,
      "outputs": []
    },
    {
      "cell_type": "code",
      "metadata": {
        "id": "8YHW0XcW1Q85",
        "colab": {
          "base_uri": "https://localhost:8080/",
          "height": 295
        },
        "outputId": "f0bc3082-64ec-49d1-c613-10ca5e2eb83d"
      },
      "source": [
        "plt.figure(1)\n",
        "plt.plot([0, 1], [0, 1], 'k--')\n",
        "plt.plot(fpr, tpr, label='ROC (area = {:.3f})'.format(auc_keras))\n",
        "plt.xlabel('False positive rate')\n",
        "plt.ylabel('True positive rate')\n",
        "plt.title('ROC curve')\n",
        "plt.legend(loc='best')\n",
        "plt.show()"
      ],
      "execution_count": null,
      "outputs": [
        {
          "output_type": "display_data",
          "data": {
            "image/png": "[encoded data removed]",
            "text/plain": [
              "<Figure size 432x288 with 1 Axes>"
            ]
          },
          "metadata": {
            "tags": [],
            "needs_background": "light"
          }
        }
      ]
    },
    {
      "cell_type": "code",
      "metadata": {
        "id": "edg8z0fc1SoQ",
        "colab": {
          "base_uri": "https://localhost:8080/",
          "height": 295
        },
        "outputId": "f8cc96bb-a3dc-4891-b541-eebc08e0c0a4"
      },
      "source": [
        "plt.figure(2)\n",
        "plt.xlim(0, 0.2)\n",
        "plt.ylim(0.8, 1)\n",
        "plt.plot([0, 1], [0, 1], 'k--')\n",
        "plt.plot(fpr, tpr, label='ROC (area = {:.3f})'.format(auc_keras))\n",
        "plt.xlabel('False positive rate')\n",
        "plt.ylabel('True positive rate')\n",
        "plt.title('ROC curve (zoomed in at top left)')\n",
        "plt.legend(loc='best')\n",
        "plt.show()"
      ],
      "execution_count": null,
      "outputs": [
        {
          "output_type": "display_data",
          "data": {
            "image/png": "[encoded data removed]",
            "text/plain": [
              "<Figure size 432x288 with 1 Axes>"
            ]
          },
          "metadata": {
            "tags": [],
            "needs_background": "light"
          }
        }
      ]
    },
    {
      "cell_type": "code",
      "metadata": {
        "id": "PmVREkeI1Xc2"
      },
      "source": [
        ""
      ],
      "execution_count": null,
      "outputs": []
    }
  ]
}